{
 "cells": [
  {
   "cell_type": "code",
   "execution_count": 1,
   "metadata": {
    "collapsed": true
   },
   "outputs": [],
   "source": [
    "import nltk"
   ]
  },
  {
   "cell_type": "code",
   "execution_count": 9,
   "metadata": {},
   "outputs": [],
   "source": [
    "def word_freq(x):\n",
    "    x_dict=dict()\n",
    "    for text in x:\n",
    "        x_dict[text] = x_dict.get(text,0)+1\n",
    "    return x_dict"
   ]
  },
  {
   "cell_type": "code",
   "execution_count": 5,
   "metadata": {
    "collapsed": true
   },
   "outputs": [],
   "source": [
    "text_list =[text for text in x]\n",
    "text_freqdict = word_freq(x)\n",
    "#list(x)"
   ]
  },
  {
   "cell_type": "code",
   "execution_count": 17,
   "metadata": {},
   "outputs": [
    {
     "name": "stdout",
     "output_type": "stream",
     "text": [
      "['石', '獅', '寺', '有', '四', '十', '四', '隻', '石', '獅', '子', '，', '四', '十', '四', '隻', '石', '獅', '子', '吃', '四', '十', '四', '枝', '濕', '紫', '柿', '子']\n",
      "{'石': 3, '獅': 3, '寺': 1, '有': 1, '四': 6, '十': 3, '隻': 2, '子': 3, '，': 1, '吃': 1, '枝': 1, '濕': 1, '紫': 1, '柿': 1}\n",
      "[('四', 6), ('石', 3), ('獅', 3), ('十', 3), ('子', 3), ('隻', 2), ('寺', 1), ('有', 1), ('，', 1), ('吃', 1), ('枝', 1), ('濕', 1), ('紫', 1), ('柿', 1)]\n"
     ]
    }
   ],
   "source": [
    "print(text_list)\n",
    "print(text_freqdict)\n",
    "from operator import itemgetter\n",
    "text_sorted = sorted(text_freqdict.items(), key=itemgetter(1), reverse=True)\n",
    "print(text_sorted)"
   ]
  },
  {
   "cell_type": "code",
   "execution_count": 18,
   "metadata": {},
   "outputs": [
    {
     "name": "stdout",
     "output_type": "stream",
     "text": [
      "[('四', 6), ('石', 3), ('獅', 3), ('十', 3), ('子', 3)]\n"
     ]
    }
   ],
   "source": [
    "text_sorted_conditions = list()\n",
    "for (text,num) in text_sorted:\n",
    "    if num > 2:\n",
    "        text_sorted_conditions.append((text,num))\n",
    "print(text_sorted_conditions)"
   ]
  },
  {
   "cell_type": "code",
   "execution_count": 56,
   "metadata": {
    "collapsed": true
   },
   "outputs": [
    {
     "data": {
      "text/plain": [
       "(['石獅',\n",
       "  '獅寺',\n",
       "  '寺有',\n",
       "  '有四',\n",
       "  '四十',\n",
       "  '十四',\n",
       "  '四隻',\n",
       "  '隻石',\n",
       "  '石獅',\n",
       "  '獅子',\n",
       "  '子，',\n",
       "  '，四',\n",
       "  '四十',\n",
       "  '十四',\n",
       "  '四隻',\n",
       "  '隻石',\n",
       "  '石獅',\n",
       "  '獅子',\n",
       "  '子吃',\n",
       "  '吃四',\n",
       "  '四十',\n",
       "  '十四',\n",
       "  '四枝',\n",
       "  '枝濕',\n",
       "  '濕紫',\n",
       "  '紫柿',\n",
       "  '柿子'],\n",
       " ['石獅寺',\n",
       "  '獅寺有',\n",
       "  '寺有四',\n",
       "  '有四十',\n",
       "  '四十四',\n",
       "  '十四隻',\n",
       "  '四隻石',\n",
       "  '隻石獅',\n",
       "  '石獅子',\n",
       "  '獅子，',\n",
       "  '子，四',\n",
       "  '，四十',\n",
       "  '四十四',\n",
       "  '十四隻',\n",
       "  '四隻石',\n",
       "  '隻石獅',\n",
       "  '石獅子',\n",
       "  '獅子吃',\n",
       "  '子吃四',\n",
       "  '吃四十',\n",
       "  '四十四',\n",
       "  '十四枝',\n",
       "  '四枝濕',\n",
       "  '枝濕紫',\n",
       "  '濕紫柿',\n",
       "  '紫柿子'])"
      ]
     },
     "execution_count": 56,
     "metadata": {},
     "output_type": "execute_result"
    }
   ],
   "source": [
    "#N-Gram\n",
    "def bigram(x):\n",
    "    return [x[i:i+2] for i in range(0,len(x)-1)]\n",
    "\n",
    "def trigram(x):\n",
    "    return [x[i:i+3] for i in range(0,len(x)-2)]\n",
    "\n",
    "bigram_x = bigram(x)\n",
    "trigram_x = trigram(x)\n",
    "\n",
    "bigram_x,trigram_x"
   ]
  },
  {
   "cell_type": "code",
   "execution_count": 64,
   "metadata": {
    "collapsed": true
   },
   "outputs": [],
   "source": [
    "def bigram_freq(x):\n",
    "    bigram_dict = dict()\n",
    "    for (c1,c2) in x:\n",
    "        bigram_dict[(c1,c2)] = bigram_dict.get((c1,c2),0)+1\n",
    "    return bigram_dict\n",
    "\n",
    "def trigram_freq(x):\n",
    "    trigram_dict=dict()\n",
    "    for (c1,c2,c3) in x:\n",
    "        trigram_dict[(c1,c2,c3)]=trigram_dict.get((c1,c2,c3),0)+1\n",
    "        print\n",
    "    return trigram_dict"
   ]
  },
  {
   "cell_type": "code",
   "execution_count": 67,
   "metadata": {
    "collapsed": true
   },
   "outputs": [
    {
     "data": {
      "text/plain": [
       "{('十', '四'): 3,\n",
       " ('吃', '四'): 1,\n",
       " ('四', '十'): 3,\n",
       " ('四', '枝'): 1,\n",
       " ('四', '隻'): 2,\n",
       " ('子', '吃'): 1,\n",
       " ('子', '，'): 1,\n",
       " ('寺', '有'): 1,\n",
       " ('有', '四'): 1,\n",
       " ('枝', '濕'): 1,\n",
       " ('柿', '子'): 1,\n",
       " ('濕', '紫'): 1,\n",
       " ('獅', '子'): 2,\n",
       " ('獅', '寺'): 1,\n",
       " ('石', '獅'): 3,\n",
       " ('紫', '柿'): 1,\n",
       " ('隻', '石'): 2,\n",
       " ('，', '四'): 1}"
      ]
     },
     "execution_count": 67,
     "metadata": {},
     "output_type": "execute_result"
    }
   ],
   "source": [
    "bigram_freq(bigram_x)"
   ]
  },
  {
   "cell_type": "code",
   "execution_count": 69,
   "metadata": {
    "collapsed": true
   },
   "outputs": [
    {
     "data": {
      "text/plain": [
       "[(('四', '十', '四'), 3),\n",
       " (('十', '四', '隻'), 2),\n",
       " (('四', '隻', '石'), 2),\n",
       " (('隻', '石', '獅'), 2),\n",
       " (('石', '獅', '子'), 2),\n",
       " (('石', '獅', '寺'), 1),\n",
       " (('獅', '寺', '有'), 1),\n",
       " (('寺', '有', '四'), 1),\n",
       " (('有', '四', '十'), 1),\n",
       " (('獅', '子', '，'), 1),\n",
       " (('子', '，', '四'), 1),\n",
       " (('，', '四', '十'), 1),\n",
       " (('獅', '子', '吃'), 1),\n",
       " (('子', '吃', '四'), 1),\n",
       " (('吃', '四', '十'), 1),\n",
       " (('十', '四', '枝'), 1),\n",
       " (('四', '枝', '濕'), 1),\n",
       " (('枝', '濕', '紫'), 1),\n",
       " (('濕', '紫', '柿'), 1),\n",
       " (('紫', '柿', '子'), 1)]"
      ]
     },
     "execution_count": 69,
     "metadata": {},
     "output_type": "execute_result"
    }
   ],
   "source": [
    "trigram_freq_data = trigram_freq(trigram_x)\n",
    "sorted(trigram_freq_data.items(), key=itemgetter(1), reverse=True)"
   ]
  },
  {
   "cell_type": "code",
   "execution_count": 39,
   "metadata": {
    "collapsed": true
   },
   "outputs": [
    {
     "data": {
      "text/plain": [
       "[(('石', '獅'), 3),\n",
       " (('四', '十'), 3),\n",
       " (('十', '四'), 3),\n",
       " (('四', '隻'), 2),\n",
       " (('隻', '石'), 2),\n",
       " (('獅', '子'), 2),\n",
       " (('獅', '寺'), 1),\n",
       " (('寺', '有'), 1),\n",
       " (('有', '四'), 1),\n",
       " (('子', '，'), 1),\n",
       " (('，', '四'), 1),\n",
       " (('子', '吃'), 1),\n",
       " (('吃', '四'), 1),\n",
       " (('四', '枝'), 1),\n",
       " (('枝', '濕'), 1),\n",
       " (('濕', '紫'), 1),\n",
       " (('紫', '柿'), 1),\n",
       " (('柿', '子'), 1)]"
      ]
     },
     "execution_count": 39,
     "metadata": {},
     "output_type": "execute_result"
    }
   ],
   "source": [
    "bigram_freq_data = bigram_freq(bigram_x)\n",
    "sorted(bigram_freq_data.items(), key=itemgetter(1), reverse=True)"
   ]
  },
  {
   "cell_type": "code",
   "execution_count": 70,
   "metadata": {
    "collapsed": true
   },
   "outputs": [],
   "source": [
    "import nltk"
   ]
  },
  {
   "cell_type": "code",
   "execution_count": 71,
   "metadata": {},
   "outputs": [
    {
     "name": "stdout",
     "output_type": "stream",
     "text": [
      "*** Introductory Examples for the NLTK Book ***\n",
      "Loading text1, ..., text9 and sent1, ..., sent9\n",
      "Type the name of the text or sentence to view it.\n",
      "Type: 'texts()' or 'sents()' to list the materials.\n",
      "text1: Moby Dick by Herman Melville 1851\n",
      "text2: Sense and Sensibility by Jane Austen 1811\n",
      "text3: The Book of Genesis\n",
      "text4: Inaugural Address Corpus\n",
      "text5: Chat Corpus\n",
      "text6: Monty Python and the Holy Grail\n",
      "text7: Wall Street Journal\n",
      "text8: Personals Corpus\n",
      "text9: The Man Who Was Thursday by G . K . Chesterton 1908\n"
     ]
    }
   ],
   "source": [
    "from nltk.book import *"
   ]
  },
  {
   "cell_type": "code",
   "execution_count": 72,
   "metadata": {},
   "outputs": [
    {
     "data": {
      "text/plain": [
       "<Text: Moby Dick by Herman Melville 1851>"
      ]
     },
     "execution_count": 72,
     "metadata": {},
     "output_type": "execute_result"
    }
   ],
   "source": [
    "text1"
   ]
  },
  {
   "cell_type": "code",
   "execution_count": 73,
   "metadata": {
    "collapsed": true
   },
   "outputs": [
    {
     "name": "stdout",
     "output_type": "stream",
     "text": [
      "Displaying 11 of 11 matches:\n",
      "ong the former , one was of a most monstrous size . ... This came towards us , \n",
      "ON OF THE PSALMS . \" Touching that monstrous bulk of the whale or ork we have r\n",
      "ll over with a heathenish array of monstrous clubs and spears . Some were thick\n",
      "d as you gazed , and wondered what monstrous cannibal and savage could ever hav\n",
      "that has survived the flood ; most monstrous and most mountainous ! That Himmal\n",
      "they might scout at Moby Dick as a monstrous fable , or still worse and more de\n",
      "th of Radney .'\" CHAPTER 55 Of the Monstrous Pictures of Whales . I shall ere l\n",
      "ing Scenes . In connexion with the monstrous pictures of whales , I am strongly\n",
      "ere to enter upon those still more monstrous stories of them which are to be fo\n",
      "ght have been rummaged out of this monstrous cabinet there is no telling . But \n",
      "of Whale - Bones ; for Whales of a monstrous size are oftentimes cast up dead u\n"
     ]
    }
   ],
   "source": [
    "text1.concordance('monstrous')"
   ]
  },
  {
   "cell_type": "code",
   "execution_count": 74,
   "metadata": {
    "collapsed": true
   },
   "outputs": [
    {
     "name": "stdout",
     "output_type": "stream",
     "text": [
      "Displaying 25 of 79 matches:\n",
      ", however , and , as a mark of his affection for the three girls , he left them\n",
      "t . It was very well known that no affection was ever supposed to exist between\n",
      "deration of politeness or maternal affection on the side of the former , the tw\n",
      "d the suspicion -- the hope of his affection for me may warrant , without impru\n",
      "hich forbade the indulgence of his affection . She knew that his mother neither\n",
      "rd she gave one with still greater affection . Though her late conversation wit\n",
      " can never hope to feel or inspire affection again , and if her home be uncomfo\n",
      "m of the sense , elegance , mutual affection , and domestic comfort of the fami\n",
      ", and which recommended him to her affection beyond every thing else . His soci\n",
      "ween the parties might forward the affection of Mr . Willoughby , an equally st\n",
      " the most pointed assurance of her affection . Elinor could not be surprised at\n",
      "he natural consequence of a strong affection in a young and ardent mind . This \n",
      " opinion . But by an appeal to her affection for her mother , by representing t\n",
      " every alteration of a place which affection had established as perfect with hi\n",
      "e will always have one claim of my affection , which no other can possibly shar\n",
      "f the evening declared at once his affection and happiness . \" Shall we see you\n",
      "ause he took leave of us with less affection than his usual behaviour has shewn\n",
      "ness .\" \" I want no proof of their affection ,\" said Elinor ; \" but of their en\n",
      "onths , without telling her of his affection ;-- that they should part without \n",
      "ould be the natural result of your affection for her . She used to be all unres\n",
      "distinguished Elinor by no mark of affection . Marianne saw and listened with i\n",
      "th no inclination for expense , no affection for strangers , no profession , an\n",
      "till distinguished her by the same affection which once she had felt no doubt o\n",
      "al of her confidence in Edward ' s affection , to the remembrance of every mark\n",
      " was made ? Had he never owned his affection to yourself ?\" \" Oh , no ; but if \n"
     ]
    }
   ],
   "source": [
    "text2.concordance('affection')"
   ]
  },
  {
   "cell_type": "code",
   "execution_count": 75,
   "metadata": {},
   "outputs": [
    {
     "name": "stdout",
     "output_type": "stream",
     "text": [
      "true contemptible christian abundant few part mean careful puzzled\n",
      "mystifying passing curious loving wise doleful gamesome singular\n",
      "delightfully perilous fearless\n"
     ]
    }
   ],
   "source": [
    "#近似字(依據上下文來判斷是否為同義)\n",
    "#而 monstrous 會出現在 the ___ pictures 以及 a ___ size 這樣的結構當中，\n",
    "#透過這個方法去比對 會在 text1 文本出現在一樣的結構中，就認定他們為近似字。\n",
    "text1.similar('monstrous')"
   ]
  },
  {
   "cell_type": "code",
   "execution_count": 76,
   "metadata": {},
   "outputs": [
    {
     "data": {
      "image/png": "[encoded data removed]",
      "text/plain": [
       "<matplotlib.figure.Figure at 0x1a24ba09b0>"
      ]
     },
     "metadata": {},
     "output_type": "display_data"
    }
   ],
   "source": [
    "text4.dispersion_plot(['freedom','America','citizens','democracy','duties'])"
   ]
  },
  {
   "cell_type": "code",
   "execution_count": 77,
   "metadata": {},
   "outputs": [
    {
     "data": {
      "text/plain": [
       "44764"
      ]
     },
     "execution_count": 77,
     "metadata": {},
     "output_type": "execute_result"
    }
   ],
   "source": [
    "len(text3)"
   ]
  },
  {
   "cell_type": "code",
   "execution_count": 81,
   "metadata": {},
   "outputs": [
    {
     "data": {
      "text/plain": [
       "2789"
      ]
     },
     "execution_count": 81,
     "metadata": {},
     "output_type": "execute_result"
    }
   ],
   "source": [
    "len(set(text3))"
   ]
  },
  {
   "cell_type": "code",
   "execution_count": 82,
   "metadata": {},
   "outputs": [
    {
     "data": {
      "text/plain": [
       "16.050197203298673"
      ]
     },
     "execution_count": 82,
     "metadata": {},
     "output_type": "execute_result"
    }
   ],
   "source": [
    "len(text3) / len(set(text3))"
   ]
  },
  {
   "cell_type": "code",
   "execution_count": 83,
   "metadata": {},
   "outputs": [
    {
     "data": {
      "text/plain": [
       "5"
      ]
     },
     "execution_count": 83,
     "metadata": {},
     "output_type": "execute_result"
    }
   ],
   "source": [
    "text3.count('smote')"
   ]
  },
  {
   "cell_type": "code",
   "execution_count": 85,
   "metadata": {},
   "outputs": [
    {
     "data": {
      "text/plain": [
       "0.13174597728754245"
      ]
     },
     "execution_count": 85,
     "metadata": {},
     "output_type": "execute_result"
    }
   ],
   "source": [
    "100* text4.count('America') / len(text4)"
   ]
  },
  {
   "cell_type": "code",
   "execution_count": null,
   "metadata": {
    "collapsed": true
   },
   "outputs": [],
   "source": [
    "#text5 中 lol 出現了多少次?它占文 全部詞數的百分比是多少?"
   ]
  },
  {
   "cell_type": "code",
   "execution_count": 86,
   "metadata": {},
   "outputs": [
    {
     "data": {
      "text/plain": [
       "704"
      ]
     },
     "execution_count": 86,
     "metadata": {},
     "output_type": "execute_result"
    }
   ],
   "source": [
    "text5.count('lol')"
   ]
  },
  {
   "cell_type": "code",
   "execution_count": 87,
   "metadata": {},
   "outputs": [
    {
     "data": {
      "text/plain": [
       "1.5640968673628082"
      ]
     },
     "execution_count": 87,
     "metadata": {},
     "output_type": "execute_result"
    }
   ],
   "source": [
    "100* text5.count('lol') / len(text5)"
   ]
  },
  {
   "cell_type": "code",
   "execution_count": 88,
   "metadata": {},
   "outputs": [
    {
     "data": {
      "text/plain": [
       "173"
      ]
     },
     "execution_count": 88,
     "metadata": {},
     "output_type": "execute_result"
    }
   ],
   "source": [
    "text4.index('awaken')"
   ]
  },
  {
   "cell_type": "code",
   "execution_count": 92,
   "metadata": {},
   "outputs": [],
   "source": [
    "x = text5[:1]"
   ]
  },
  {
   "cell_type": "code",
   "execution_count": 93,
   "metadata": {},
   "outputs": [
    {
     "data": {
      "text/plain": [
       "['now', 'now']"
      ]
     },
     "execution_count": 93,
     "metadata": {},
     "output_type": "execute_result"
    }
   ],
   "source": [
    "x*2"
   ]
  },
  {
   "cell_type": "code",
   "execution_count": 94,
   "metadata": {},
   "outputs": [
    {
     "data": {
      "text/plain": [
       "['now', 'new', 'new']"
      ]
     },
     "execution_count": 94,
     "metadata": {},
     "output_type": "execute_result"
    }
   ],
   "source": [
    "x + ['new','new']"
   ]
  },
  {
   "cell_type": "code",
   "execution_count": 97,
   "metadata": {},
   "outputs": [],
   "source": [
    "fdist1 = FreqDist(text1)"
   ]
  },
  {
   "cell_type": "code",
   "execution_count": 100,
   "metadata": {
    "collapsed": true
   },
   "outputs": [
    {
     "data": {
      "image/png": "[encoded data removed]",
      "text/plain": [
       "<matplotlib.figure.Figure at 0x1a2dc55c50>"
      ]
     },
     "metadata": {},
     "output_type": "display_data"
    }
   ],
   "source": [
    "fdist1.plot(50, cumulative=False)"
   ]
  },
  {
   "cell_type": "code",
   "execution_count": 101,
   "metadata": {
    "collapsed": true
   },
   "outputs": [
    {
     "data": {
      "text/plain": [
       "['Herman',\n",
       " 'Melville',\n",
       " ']',\n",
       " 'ETYMOLOGY',\n",
       " 'Late',\n",
       " 'Consumptive',\n",
       " 'School',\n",
       " 'threadbare',\n",
       " 'lexicons',\n",
       " 'mockingly',\n",
       " 'flags',\n",
       " 'mortality',\n",
       " 'signification',\n",
       " 'HACKLUYT',\n",
       " 'Sw',\n",
       " 'HVAL',\n",
       " 'roundness',\n",
       " 'Dut',\n",
       " 'Ger',\n",
       " 'WALLEN',\n",
       " 'WALW',\n",
       " 'IAN',\n",
       " 'RICHARDSON',\n",
       " 'KETOS',\n",
       " 'GREEK',\n",
       " 'CETUS',\n",
       " 'LATIN',\n",
       " 'WHOEL',\n",
       " 'ANGLO',\n",
       " 'SAXON',\n",
       " 'WAL',\n",
       " 'HWAL',\n",
       " 'SWEDISH',\n",
       " 'ICELANDIC',\n",
       " 'BALEINE',\n",
       " 'BALLENA',\n",
       " 'FEGEE',\n",
       " 'ERROMANGOAN',\n",
       " 'Librarian',\n",
       " 'painstaking',\n",
       " 'burrower',\n",
       " 'grub',\n",
       " 'Vaticans',\n",
       " 'stalls',\n",
       " 'higgledy',\n",
       " 'piggledy',\n",
       " 'gospel',\n",
       " 'promiscuously',\n",
       " 'commentator',\n",
       " 'belongest',\n",
       " 'sallow',\n",
       " 'Pale',\n",
       " 'Sherry',\n",
       " 'loves',\n",
       " 'bluntly',\n",
       " 'Subs',\n",
       " 'thankless',\n",
       " 'Hampton',\n",
       " 'Court',\n",
       " 'hie',\n",
       " 'refugees',\n",
       " 'pampered',\n",
       " 'Michael',\n",
       " 'Raphael',\n",
       " 'unsplinterable',\n",
       " 'GENESIS',\n",
       " 'JOB',\n",
       " 'JONAH',\n",
       " 'punish',\n",
       " 'ISAIAH',\n",
       " 'soever',\n",
       " 'cometh',\n",
       " 'incontinently',\n",
       " 'perisheth',\n",
       " 'PLUTARCH',\n",
       " 'MORALS',\n",
       " 'breedeth',\n",
       " 'Whirlpooles',\n",
       " 'Balaene',\n",
       " 'arpens',\n",
       " 'PLINY',\n",
       " 'Scarcely',\n",
       " 'TOOKE',\n",
       " 'LUCIAN',\n",
       " 'TRUE',\n",
       " 'catched',\n",
       " 'OCTHER',\n",
       " 'VERBAL',\n",
       " 'TAKEN',\n",
       " 'MOUTH',\n",
       " 'ALFRED',\n",
       " '890',\n",
       " 'gudgeon',\n",
       " 'retires',\n",
       " 'MONTAIGNE',\n",
       " 'APOLOGY',\n",
       " 'RAIMOND',\n",
       " 'SEBOND',\n",
       " 'Nick',\n",
       " 'RABELAIS',\n",
       " 'cartloads',\n",
       " 'STOWE',\n",
       " 'ANNALS',\n",
       " 'LORD',\n",
       " 'BACON',\n",
       " 'Touching',\n",
       " 'ork',\n",
       " 'DEATH',\n",
       " 'sovereignest',\n",
       " 'bruise',\n",
       " 'HAMLET',\n",
       " 'leach',\n",
       " 'Mote',\n",
       " 'availle',\n",
       " 'returne',\n",
       " 'againe',\n",
       " 'worker',\n",
       " 'Dinting',\n",
       " 'paine',\n",
       " 'thro',\n",
       " 'maine',\n",
       " 'FAERIE',\n",
       " 'Immense',\n",
       " 'til',\n",
       " 'DAVENANT',\n",
       " 'PREFACE',\n",
       " 'GONDIBERT',\n",
       " 'spermacetti',\n",
       " 'Hosmannus',\n",
       " 'Nescio',\n",
       " 'VIDE',\n",
       " 'Spencer',\n",
       " 'Talus',\n",
       " 'flail',\n",
       " 'threatens',\n",
       " 'jav',\n",
       " 'lins',\n",
       " 'WALLER',\n",
       " 'SUMMER',\n",
       " 'ISLANDS',\n",
       " 'Commonwealth',\n",
       " 'Civitas',\n",
       " 'OPENING',\n",
       " 'SENTENCE',\n",
       " 'HOBBES',\n",
       " 'LEVIATHAN',\n",
       " 'Silly',\n",
       " 'Mansoul',\n",
       " 'chewing',\n",
       " 'sprat',\n",
       " 'PILGRIM',\n",
       " 'PROGRESS',\n",
       " 'Created',\n",
       " 'PARADISE',\n",
       " 'LOST',\n",
       " '---\"',\n",
       " 'Hugest',\n",
       " 'Stretched',\n",
       " 'Draws',\n",
       " 'FULLLER',\n",
       " 'PROFANE',\n",
       " 'HOLY',\n",
       " 'STATE',\n",
       " 'DRYDEN',\n",
       " 'ANNUS',\n",
       " 'MIRABILIS',\n",
       " 'aground',\n",
       " 'EDGE',\n",
       " 'TEN',\n",
       " 'SPITZBERGEN',\n",
       " 'PURCHAS',\n",
       " 'wantonness',\n",
       " 'fuzzing',\n",
       " 'vents',\n",
       " 'HERBERT',\n",
       " 'INTO',\n",
       " 'ASIA',\n",
       " 'AFRICA',\n",
       " 'SCHOUTEN',\n",
       " 'SIXTH',\n",
       " 'CIRCUMNAVIGATION',\n",
       " 'Elbe',\n",
       " 'ducat',\n",
       " 'herrings',\n",
       " 'GREENLAND',\n",
       " 'Several',\n",
       " 'Fife',\n",
       " 'Anno',\n",
       " '1652',\n",
       " 'Pitferren',\n",
       " 'SIBBALD',\n",
       " 'FIFE',\n",
       " 'KINROSS',\n",
       " 'Myself',\n",
       " 'Sperma',\n",
       " 'ceti',\n",
       " 'fierceness',\n",
       " 'RICHARD',\n",
       " 'STRAFFORD',\n",
       " 'LETTER',\n",
       " 'BERMUDAS',\n",
       " 'PHIL',\n",
       " 'TRANS',\n",
       " '1668',\n",
       " 'PRIMER',\n",
       " 'COWLEY',\n",
       " '1729',\n",
       " '\"...',\n",
       " 'frequendy',\n",
       " 'insupportable',\n",
       " 'disorder',\n",
       " 'ULLOA',\n",
       " 'SOUTH',\n",
       " 'AMERICA',\n",
       " 'sylphs',\n",
       " 'petticoat',\n",
       " 'Oft',\n",
       " 'Tho',\n",
       " 'RAPE',\n",
       " 'LOCK',\n",
       " 'NAT',\n",
       " 'wales',\n",
       " 'JOHNSON',\n",
       " 'COOK',\n",
       " 'dung',\n",
       " 'lime',\n",
       " 'juniper',\n",
       " 'UNO',\n",
       " 'VON',\n",
       " 'TROIL',\n",
       " 'LETTERS',\n",
       " 'BANKS',\n",
       " 'SOLANDER',\n",
       " '1772',\n",
       " 'Nantuckois',\n",
       " 'JEFFERSON',\n",
       " 'MEMORIAL',\n",
       " 'MINISTER',\n",
       " 'REFERENCE',\n",
       " 'PARLIAMENT',\n",
       " 'SOMEWHERE',\n",
       " 'guarding',\n",
       " 'protecting',\n",
       " 'robbers',\n",
       " 'BLACKSTONE',\n",
       " 'Rodmond',\n",
       " 'suspends',\n",
       " 'attends',\n",
       " 'FALCONER',\n",
       " 'Bright',\n",
       " 'roofs',\n",
       " 'domes',\n",
       " 'rockets',\n",
       " 'Around',\n",
       " 'unwieldy',\n",
       " 'COWPER',\n",
       " 'VISIT',\n",
       " 'LONDON',\n",
       " 'HUNTER',\n",
       " 'DISSECTION',\n",
       " 'SMALL',\n",
       " 'SIZED',\n",
       " 'aorta',\n",
       " 'gushing',\n",
       " 'PALEY',\n",
       " 'THEOLOGY',\n",
       " 'mammiferous',\n",
       " 'hind',\n",
       " 'BARON',\n",
       " 'CUVIER',\n",
       " 'COLNETT',\n",
       " 'PURPOSE',\n",
       " 'EXTENDING',\n",
       " 'SPERMACETI',\n",
       " 'Floundered',\n",
       " 'chace',\n",
       " 'peopling',\n",
       " 'Gather',\n",
       " 'Led',\n",
       " 'instincts',\n",
       " 'trackless',\n",
       " 'Assaulted',\n",
       " 'voracious',\n",
       " 'spiral',\n",
       " 'MONTGOMERY',\n",
       " 'WORLD',\n",
       " 'FLOOD',\n",
       " 'Paean',\n",
       " 'fatter',\n",
       " 'Flounders',\n",
       " 'CHARLES',\n",
       " 'LAMB',\n",
       " 'TRIUMPH',\n",
       " '1690',\n",
       " 'OBED',\n",
       " 'Susan',\n",
       " 'HAWTHORNE',\n",
       " 'TWICE',\n",
       " 'bespeak',\n",
       " 'raal',\n",
       " 'COOPER',\n",
       " 'PILOT',\n",
       " 'Berlin',\n",
       " 'Gazette',\n",
       " 'ECKERMANN',\n",
       " 'CONVERSATIONS',\n",
       " 'GOETHE',\n",
       " 'ESSEX',\n",
       " 'WAS',\n",
       " 'ATTACKED',\n",
       " 'FINALLY',\n",
       " 'DESTROYED',\n",
       " 'OWEN',\n",
       " 'CHACE',\n",
       " 'FIRST',\n",
       " 'SAID',\n",
       " 'VESSEL',\n",
       " 'YORK',\n",
       " '1821',\n",
       " 'piping',\n",
       " 'dimmed',\n",
       " 'phospher',\n",
       " 'ELIZABETH',\n",
       " 'OAKES',\n",
       " 'SMITH',\n",
       " 'amounted',\n",
       " '440',\n",
       " 'SCORESBY',\n",
       " 'Mad',\n",
       " 'agonies',\n",
       " 'endures',\n",
       " 'infuriated',\n",
       " 'rears',\n",
       " 'snaps',\n",
       " 'propelled',\n",
       " 'observers',\n",
       " 'opportunities',\n",
       " 'habitudes',\n",
       " 'BEALE',\n",
       " 'offensively',\n",
       " 'artful',\n",
       " 'mischievous',\n",
       " 'FREDERICK',\n",
       " 'DEBELL',\n",
       " '1840',\n",
       " 'October',\n",
       " 'Raise',\n",
       " 'ay',\n",
       " 'THAR',\n",
       " 'bowes',\n",
       " 'os',\n",
       " 'ROSS',\n",
       " 'ETCHINGS',\n",
       " 'CRUIZE',\n",
       " '1846',\n",
       " 'Globe',\n",
       " 'transactions',\n",
       " 'relate',\n",
       " 'HUSSEY',\n",
       " 'SURVIVORS',\n",
       " 'parried',\n",
       " 'MISSIONARY',\n",
       " 'JOURNAL',\n",
       " 'TYERMAN',\n",
       " 'boldest',\n",
       " 'persevering',\n",
       " 'REPORT',\n",
       " 'DANIEL',\n",
       " 'SPEECH',\n",
       " 'SENATE',\n",
       " 'APPLICATION',\n",
       " 'ERECTION',\n",
       " 'BREAKWATER',\n",
       " 'CAPTORS',\n",
       " 'WHALEMAN',\n",
       " 'ADVENTURES',\n",
       " 'BIOGRAPHY',\n",
       " 'GATHERED',\n",
       " 'HOMEWARD',\n",
       " 'COMMODORE',\n",
       " 'PREBLE',\n",
       " 'REV',\n",
       " 'CHEEVER',\n",
       " 'MUTINEER',\n",
       " 'BROTHER',\n",
       " 'ANOTHER',\n",
       " 'MCCULLOCH',\n",
       " 'COMMERCIAL',\n",
       " 'reciprocal',\n",
       " 'clews',\n",
       " 'SOMETHING',\n",
       " 'UNPUBLISHED',\n",
       " 'CURRENTS',\n",
       " 'Pedestrians',\n",
       " 'recollect',\n",
       " 'gateways',\n",
       " 'VOYAGER',\n",
       " 'ARCTIC',\n",
       " 'NEWSPAPER',\n",
       " 'TAKING',\n",
       " 'RETAKING',\n",
       " 'HOBOMACK',\n",
       " 'MIRIAM',\n",
       " 'FISHERMAN',\n",
       " 'appliance',\n",
       " 'RIBS',\n",
       " 'TRUCKS',\n",
       " 'Terra',\n",
       " 'Del',\n",
       " 'Fuego',\n",
       " 'DARWIN',\n",
       " 'NATURALIST',\n",
       " \";--'\",\n",
       " '!\\'\"',\n",
       " 'WHARTON',\n",
       " 'Loomings',\n",
       " 'spleen',\n",
       " 'regulating',\n",
       " 'circulation',\n",
       " 'Whenever',\n",
       " 'drizzly',\n",
       " 'hypos',\n",
       " 'philosophical',\n",
       " 'Cato',\n",
       " 'Manhattoes',\n",
       " 'reefs',\n",
       " 'downtown',\n",
       " 'gazers',\n",
       " 'Circumambulate',\n",
       " 'Corlears',\n",
       " 'Coenties',\n",
       " 'Slip',\n",
       " 'Whitehall',\n",
       " 'Posted',\n",
       " 'sentinels',\n",
       " 'spiles',\n",
       " 'pier',\n",
       " 'lath',\n",
       " 'counters',\n",
       " 'desks',\n",
       " 'loitering',\n",
       " 'shady',\n",
       " 'Inlanders',\n",
       " 'lanes',\n",
       " 'alleys',\n",
       " 'attract',\n",
       " 'dale',\n",
       " 'dreamiest',\n",
       " 'shadiest',\n",
       " 'quietest',\n",
       " 'enchanting',\n",
       " 'Saco',\n",
       " 'crucifix',\n",
       " 'Deep',\n",
       " 'mazy',\n",
       " 'Tiger',\n",
       " 'Tennessee',\n",
       " 'Rockaway',\n",
       " 'Persians',\n",
       " 'deity',\n",
       " 'Narcissus',\n",
       " 'ungraspable',\n",
       " 'hazy',\n",
       " 'quarrelsome',\n",
       " 'offices',\n",
       " 'abominate',\n",
       " 'toils',\n",
       " 'trials',\n",
       " 'barques',\n",
       " 'schooners',\n",
       " 'broiling',\n",
       " 'buttered',\n",
       " 'judgmatically',\n",
       " 'peppered',\n",
       " 'reverentially',\n",
       " 'idolatrous',\n",
       " 'dotings',\n",
       " 'ibis',\n",
       " 'roasted',\n",
       " 'bake',\n",
       " 'plumb',\n",
       " 'Van',\n",
       " 'Rensselaers',\n",
       " 'Randolphs',\n",
       " 'Hardicanutes',\n",
       " 'lording',\n",
       " 'tallest',\n",
       " 'decoction',\n",
       " 'Seneca',\n",
       " 'Stoics',\n",
       " 'Testament',\n",
       " 'promptly',\n",
       " 'rub',\n",
       " 'infliction',\n",
       " 'BEING',\n",
       " 'PAID',\n",
       " 'urbane',\n",
       " 'ills',\n",
       " 'monied',\n",
       " 'consign',\n",
       " 'prevalent',\n",
       " 'violate',\n",
       " 'Pythagorean',\n",
       " 'commonalty',\n",
       " 'police',\n",
       " 'surveillance',\n",
       " 'programme',\n",
       " 'solo',\n",
       " 'CONTESTED',\n",
       " 'ELECTION',\n",
       " 'PRESIDENCY',\n",
       " 'UNITED',\n",
       " 'STATES',\n",
       " 'ISHMAEL',\n",
       " 'BLOODY',\n",
       " 'AFFGHANISTAN',\n",
       " 'managers',\n",
       " 'genteel',\n",
       " 'comedies',\n",
       " 'farces',\n",
       " 'cunningly',\n",
       " 'disguises',\n",
       " 'cajoling',\n",
       " 'unbiased',\n",
       " 'freewill',\n",
       " 'discriminating',\n",
       " 'overwhelming',\n",
       " 'undeliverable',\n",
       " 'itch',\n",
       " 'forbidden',\n",
       " 'ignoring',\n",
       " 'lodges',\n",
       " 'Carpet',\n",
       " 'Bag',\n",
       " 'Manhatto',\n",
       " 'candidates',\n",
       " 'penalties',\n",
       " 'Tyre',\n",
       " 'Carthage',\n",
       " 'imported',\n",
       " 'cobblestones',\n",
       " 'bitingly',\n",
       " 'shouldering',\n",
       " 'price',\n",
       " 'fervent',\n",
       " 'asphaltic',\n",
       " 'pavement',\n",
       " 'flinty',\n",
       " 'projections',\n",
       " 'soles',\n",
       " 'Too',\n",
       " 'cheapest',\n",
       " 'cheeriest',\n",
       " 'invitingly',\n",
       " 'particles',\n",
       " 'peer',\n",
       " 'Angel',\n",
       " 'Doom',\n",
       " 'wailing',\n",
       " 'gnashing',\n",
       " 'Wretched',\n",
       " 'entertainment',\n",
       " 'Moving',\n",
       " 'emigrant',\n",
       " 'poverty',\n",
       " 'creak',\n",
       " 'lodgings',\n",
       " 'zephyr',\n",
       " 'hob',\n",
       " 'toasting',\n",
       " 'observest',\n",
       " 'sashless',\n",
       " 'glazier',\n",
       " 'reasonest',\n",
       " 'chinks',\n",
       " 'crannies',\n",
       " 'lint',\n",
       " 'chattering',\n",
       " 'shiverings',\n",
       " 'cob',\n",
       " 'redder',\n",
       " 'Orion',\n",
       " 'glitters',\n",
       " 'conservatories',\n",
       " 'president',\n",
       " 'temperance',\n",
       " 'blubbering',\n",
       " 'straggling',\n",
       " 'wainscots',\n",
       " 'reminding',\n",
       " 'oilpainting',\n",
       " 'besmoked',\n",
       " 'defaced',\n",
       " 'unequal',\n",
       " 'crosslights',\n",
       " 'hags',\n",
       " 'delineate',\n",
       " 'bewitched',\n",
       " 'ponderings',\n",
       " 'boggy',\n",
       " 'soggy',\n",
       " 'squitchy',\n",
       " 'froze',\n",
       " 'heath',\n",
       " 'icebound',\n",
       " 'represents',\n",
       " 'Horner',\n",
       " 'foundered',\n",
       " 'clubs',\n",
       " 'harvesting',\n",
       " 'hacking',\n",
       " 'horrifying',\n",
       " 'Mixed',\n",
       " 'Nathan',\n",
       " 'Swain',\n",
       " 'corkscrew',\n",
       " 'Blanco',\n",
       " 'sojourning',\n",
       " 'fireplaces',\n",
       " 'duskier',\n",
       " 'cockpits',\n",
       " 'rarities',\n",
       " 'Projecting',\n",
       " 'Within',\n",
       " 'shelves',\n",
       " 'flasks',\n",
       " 'bustles',\n",
       " 'deliriums',\n",
       " 'Abominable',\n",
       " 'tumblers',\n",
       " 'cylinders',\n",
       " 'goggling',\n",
       " 'deceitfully',\n",
       " 'tapered',\n",
       " 'Parallel',\n",
       " 'pecked',\n",
       " 'footpads',\n",
       " 'Fill',\n",
       " 'shilling',\n",
       " 'examining',\n",
       " 'SKRIMSHANDER',\n",
       " 'accommodated',\n",
       " 'unoccupied',\n",
       " 'haint',\n",
       " 'pose',\n",
       " 'whalin',\n",
       " 'decidedly',\n",
       " 'objectionable',\n",
       " 'wander',\n",
       " 'Battery',\n",
       " 'ruminating',\n",
       " 'adorning',\n",
       " 'potatoes',\n",
       " 'sartainty',\n",
       " 'diabolically',\n",
       " 'steaks',\n",
       " 'undress',\n",
       " 'looker',\n",
       " 'rioting',\n",
       " 'Grampus',\n",
       " 'seed',\n",
       " 'Feegees',\n",
       " 'tramping',\n",
       " 'Enveloped',\n",
       " 'bedarned',\n",
       " 'eruption',\n",
       " 'officiating',\n",
       " 'brimmers',\n",
       " 'complained',\n",
       " 'potion',\n",
       " 'colds',\n",
       " 'catarrhs',\n",
       " 'liquor',\n",
       " 'arrantest',\n",
       " 'topers',\n",
       " 'obstreperously',\n",
       " 'aloof',\n",
       " 'desirous',\n",
       " 'hilarity',\n",
       " 'coffer',\n",
       " 'Southerner',\n",
       " 'mountaineers',\n",
       " 'Alleghanian',\n",
       " 'missed',\n",
       " 'supernaturally',\n",
       " 'congratulate',\n",
       " 'multiply',\n",
       " 'bachelor',\n",
       " 'abominated',\n",
       " 'tidiest',\n",
       " 'bedwards',\n",
       " 'shan',\n",
       " 'tablecloth',\n",
       " 'Skrimshander',\n",
       " 'bump',\n",
       " 'spraining',\n",
       " 'eider',\n",
       " 'yoking',\n",
       " 'rickety',\n",
       " 'whirlwinds',\n",
       " 'knockings',\n",
       " 'dismissed',\n",
       " 'popped',\n",
       " 'cherishing',\n",
       " 'chuckled',\n",
       " 'chuckle',\n",
       " 'mightily',\n",
       " 'catches',\n",
       " 'bamboozingly',\n",
       " 'overstocked',\n",
       " 'toothpick',\n",
       " 'rayther',\n",
       " 'BROWN',\n",
       " 'slanderin',\n",
       " 'farrago',\n",
       " 'BROKE',\n",
       " 'Sartain',\n",
       " 'Mt',\n",
       " 'Hecla',\n",
       " 'persist',\n",
       " 'mystifying',\n",
       " 'unsay',\n",
       " 'criminal',\n",
       " 'Wall',\n",
       " 'purty',\n",
       " 'sarmon',\n",
       " 'rips',\n",
       " 'tellin',\n",
       " 'bought',\n",
       " 'balmed',\n",
       " 'curios',\n",
       " 'sellin',\n",
       " 'inions',\n",
       " 'fooling',\n",
       " 'idolators',\n",
       " 'Depend',\n",
       " 'reg',\n",
       " 'lar',\n",
       " 'spliced',\n",
       " 'Johnny',\n",
       " 'sprawling',\n",
       " 'Arter',\n",
       " 'glim',\n",
       " 'jiffy',\n",
       " 'irresolute',\n",
       " 'vum',\n",
       " 'WON',\n",
       " 'Folding',\n",
       " 'scrutiny',\n",
       " 'porcupine',\n",
       " 'moccasin',\n",
       " 'ponchos',\n",
       " 'parade',\n",
       " 'rainy',\n",
       " 'remembering',\n",
       " 'commended',\n",
       " 'cobs',\n",
       " 'Nod',\n",
       " 'footfall',\n",
       " 'unlacing',\n",
       " 'blackish',\n",
       " 'plasters',\n",
       " 'inkling',\n",
       " 'Placing',\n",
       " 'crammed',\n",
       " 'scalp',\n",
       " 'mildewed',\n",
       " 'Ignorance',\n",
       " 'parent',\n",
       " 'nonplussed',\n",
       " 'undressing',\n",
       " 'checkered',\n",
       " 'Thirty',\n",
       " 'frogs',\n",
       " 'quaked',\n",
       " 'wrapall',\n",
       " 'dreadnaught',\n",
       " 'fumbled',\n",
       " 'Remembering',\n",
       " 'manikin',\n",
       " 'tenpin',\n",
       " 'andirons',\n",
       " 'jambs',\n",
       " 'bricks',\n",
       " 'appropriate',\n",
       " 'applying',\n",
       " 'hastier',\n",
       " 'withdrawals',\n",
       " 'antics',\n",
       " 'devotee',\n",
       " 'extinguishing',\n",
       " 'unceremoniously',\n",
       " 'bagged',\n",
       " 'sportsman',\n",
       " 'woodcock',\n",
       " 'uncomfortableness',\n",
       " 'deliberating',\n",
       " 'puffed',\n",
       " 'sang',\n",
       " 'Stammering',\n",
       " 'conjured',\n",
       " 'responses',\n",
       " 'debel',\n",
       " 'flourishing',\n",
       " 'Angels',\n",
       " 'flourishings',\n",
       " 'peddlin',\n",
       " 'sleepe',\n",
       " 'grunted',\n",
       " 'gettee',\n",
       " 'motioning',\n",
       " 'comely',\n",
       " 'insured',\n",
       " 'Counterpane',\n",
       " 'parti',\n",
       " 'triangles',\n",
       " 'interminable',\n",
       " 'caper',\n",
       " 'supperless',\n",
       " '21st',\n",
       " 'hemisphere',\n",
       " 'sigh',\n",
       " 'Sixteen',\n",
       " 'ached',\n",
       " 'coaches',\n",
       " 'stockinged',\n",
       " 'slippering',\n",
       " 'misbehaviour',\n",
       " 'unendurable',\n",
       " 'stepmothers',\n",
       " 'misfortunes',\n",
       " 'steeped',\n",
       " 'shudderingly',\n",
       " 'confounding',\n",
       " 'soberly',\n",
       " 'recurred',\n",
       " 'predicament',\n",
       " 'unlock',\n",
       " 'bridegroom',\n",
       " 'clasp',\n",
       " 'hugged',\n",
       " 'rouse',\n",
       " 'snore',\n",
       " 'scratch',\n",
       " 'Throwing',\n",
       " 'expostulations',\n",
       " 'unbecomingness',\n",
       " 'matrimonial',\n",
       " 'dawning',\n",
       " 'overture',\n",
       " 'innate',\n",
       " 'compliment',\n",
       " 'civility',\n",
       " 'rudeness',\n",
       " 'toilette',\n",
       " 'dressing',\n",
       " 'donning',\n",
       " 'gaspings',\n",
       " 'booting',\n",
       " 'caterpillar',\n",
       " 'outlandishness',\n",
       " 'manners',\n",
       " 'education',\n",
       " 'undergraduate',\n",
       " 'dreamt',\n",
       " 'cowhide',\n",
       " 'pinched',\n",
       " 'curtains',\n",
       " 'indecorous',\n",
       " 'contented',\n",
       " 'restricting',\n",
       " 'donned',\n",
       " 'lathering',\n",
       " 'unsheathes',\n",
       " 'whets',\n",
       " 'Rogers',\n",
       " 'cutlery',\n",
       " 'Afterwards',\n",
       " 'baton',\n",
       " 'Breakfast',\n",
       " 'pleasantly',\n",
       " 'bountifully',\n",
       " 'laughable',\n",
       " 'bosky',\n",
       " 'unshorn',\n",
       " 'gowns',\n",
       " 'toasted',\n",
       " 'lingers',\n",
       " 'tarried',\n",
       " 'barred',\n",
       " 'Grub',\n",
       " 'Park',\n",
       " 'assurance',\n",
       " 'polish',\n",
       " 'occasioned',\n",
       " 'embarrassed',\n",
       " 'bashfulness',\n",
       " 'duelled',\n",
       " 'winking',\n",
       " 'tastes',\n",
       " 'sheepishly',\n",
       " 'bashful',\n",
       " 'icicle',\n",
       " 'admirer',\n",
       " 'cordially',\n",
       " 'grappling',\n",
       " 'genteelly',\n",
       " 'eschewed',\n",
       " 'undivided',\n",
       " '6',\n",
       " 'circulating',\n",
       " 'nondescripts',\n",
       " 'Chestnut',\n",
       " 'jostle',\n",
       " 'Regent',\n",
       " 'Lascars',\n",
       " 'Bombay',\n",
       " 'Apollo',\n",
       " 'Feegeeans',\n",
       " 'Tongatobooarrs',\n",
       " 'Erromanggoans',\n",
       " 'Pannangians',\n",
       " 'Brighggians',\n",
       " 'weekly',\n",
       " 'Vermonters',\n",
       " 'stalwart',\n",
       " 'frames',\n",
       " 'felled',\n",
       " 'strutting',\n",
       " 'wester',\n",
       " 'bombazine',\n",
       " 'cloak',\n",
       " 'mow',\n",
       " 'gloves',\n",
       " 'joins',\n",
       " 'outfit',\n",
       " 'waistcoats',\n",
       " 'Hay',\n",
       " 'Seed',\n",
       " 'tract',\n",
       " 'dearest',\n",
       " 'pave',\n",
       " 'eggs',\n",
       " 'patrician',\n",
       " 'parks',\n",
       " 'scraggy',\n",
       " 'scoria',\n",
       " 'Herr',\n",
       " 'dowers',\n",
       " 'nieces',\n",
       " 'reservoirs',\n",
       " 'maples',\n",
       " 'bountiful',\n",
       " 'proffer',\n",
       " 'passer',\n",
       " 'cones',\n",
       " 'blossoms',\n",
       " 'superinduced',\n",
       " 'carnation',\n",
       " 'Salem',\n",
       " 'sweethearts',\n",
       " 'Puritanic',\n",
       " 'Whaleman',\n",
       " 'Wrapping',\n",
       " 'Each',\n",
       " 'quote',\n",
       " 'TALBOT',\n",
       " 'Near',\n",
       " 'Desolation',\n",
       " '1st',\n",
       " 'SISTER',\n",
       " 'ROBERT',\n",
       " 'WILLIS',\n",
       " 'ELLERY',\n",
       " 'NATHAN',\n",
       " 'COLEMAN',\n",
       " 'WALTER',\n",
       " 'CANNY',\n",
       " 'SETH',\n",
       " 'GLEIG',\n",
       " 'Forming',\n",
       " 'ELIZA',\n",
       " '31st',\n",
       " 'MARBLE',\n",
       " 'SHIPMATES',\n",
       " 'EZEKIEL',\n",
       " 'HARDY',\n",
       " 'AUGUST',\n",
       " '3d',\n",
       " '1833',\n",
       " 'WIDOW',\n",
       " 'Shaking',\n",
       " 'glazed',\n",
       " 'Affected',\n",
       " 'relatives',\n",
       " 'unhealing',\n",
       " 'sympathetically',\n",
       " 'wounds',\n",
       " 'bleed',\n",
       " 'blanks',\n",
       " ...]"
      ]
     },
     "execution_count": 101,
     "metadata": {},
     "output_type": "execute_result"
    }
   ],
   "source": [
    "fdist1.hapaxes()"
   ]
  },
  {
   "cell_type": "code",
   "execution_count": 102,
   "metadata": {
    "collapsed": true
   },
   "outputs": [],
   "source": [
    "V = set(text1)\n",
    "long_words = [w for w in V if len(w) > 15]"
   ]
  },
  {
   "cell_type": "code",
   "execution_count": 103,
   "metadata": {
    "collapsed": true
   },
   "outputs": [
    {
     "data": {
      "text/plain": [
       "['uncomfortableness',\n",
       " 'indiscriminately',\n",
       " 'uninterpenetratingly',\n",
       " 'circumnavigating',\n",
       " 'undiscriminating',\n",
       " 'preternaturalness',\n",
       " 'uncompromisedness',\n",
       " 'Physiognomically',\n",
       " 'indispensableness',\n",
       " 'cannibalistically',\n",
       " 'subterraneousness',\n",
       " 'circumnavigations',\n",
       " 'characteristically',\n",
       " 'circumnavigation',\n",
       " 'supernaturalness',\n",
       " 'CIRCUMNAVIGATION',\n",
       " 'hermaphroditical',\n",
       " 'simultaneousness',\n",
       " 'apprehensiveness',\n",
       " 'irresistibleness',\n",
       " 'responsibilities',\n",
       " 'superstitiousness',\n",
       " 'comprehensiveness',\n",
       " 'physiognomically']"
      ]
     },
     "execution_count": 103,
     "metadata": {},
     "output_type": "execute_result"
    }
   ],
   "source": [
    "long_words"
   ]
  },
  {
   "cell_type": "code",
   "execution_count": 105,
   "metadata": {
    "collapsed": true
   },
   "outputs": [],
   "source": [
    "fdist5 = FreqDist(text5)"
   ]
  },
  {
   "cell_type": "code",
   "execution_count": 106,
   "metadata": {
    "collapsed": true
   },
   "outputs": [
    {
     "data": {
      "text/plain": [
       "['#14-19teens',\n",
       " '#talkcity_adults',\n",
       " '((((((((((',\n",
       " '........',\n",
       " 'Question',\n",
       " 'actually',\n",
       " 'anything',\n",
       " 'computer',\n",
       " 'cute.-ass',\n",
       " 'everyone',\n",
       " 'football',\n",
       " 'innocent',\n",
       " 'listening',\n",
       " 'remember',\n",
       " 'seriously',\n",
       " 'something',\n",
       " 'together',\n",
       " 'tomorrow',\n",
       " 'watching']"
      ]
     },
     "execution_count": 106,
     "metadata": {},
     "output_type": "execute_result"
    }
   ],
   "source": [
    "sorted([w for w in set(text5) if len(w) > 7 and fdist5[w] > 7])"
   ]
  },
  {
   "cell_type": "code",
   "execution_count": 107,
   "metadata": {
    "collapsed": true
   },
   "outputs": [],
   "source": [
    "from nltk import bigrams"
   ]
  },
  {
   "cell_type": "code",
   "execution_count": 109,
   "metadata": {},
   "outputs": [],
   "source": [
    "x_bigrams = bigrams(['more','is','said','than','done'])"
   ]
  },
  {
   "cell_type": "code",
   "execution_count": 111,
   "metadata": {},
   "outputs": [
    {
     "data": {
      "text/plain": [
       "[('more', 'is'), ('is', 'said'), ('said', 'than'), ('than', 'done')]"
      ]
     },
     "execution_count": 111,
     "metadata": {},
     "output_type": "execute_result"
    }
   ],
   "source": [
    "list(x_bigrams)"
   ]
  },
  {
   "cell_type": "code",
   "execution_count": 114,
   "metadata": {},
   "outputs": [
    {
     "name": "stdout",
     "output_type": "stream",
     "text": [
      "they are bird s\n"
     ]
    }
   ],
   "source": [
    "import nltk\n",
    "from nltk.corpus import words  \n",
    "wordlist = set(words.words())   \n",
    "def max_match(text):  \n",
    "    pos2 = len(text)  \n",
    "    result = ''  \n",
    "    while len(text) > 0:         \n",
    "        word = text[0:pos2]\n",
    "        if word in wordlist:  \n",
    "            result = result + text[0:pos2] + ' '  \n",
    "            text = text[pos2:]  \n",
    "            pos2 = len(text)  \n",
    "        else:  \n",
    "            pos2 = pos2-1                 \n",
    "    return result[0:-1]  \n",
    "string = 'theyarebirds'  \n",
    "print(max_match(string))"
   ]
  },
  {
   "cell_type": "code",
   "execution_count": null,
   "metadata": {
    "collapsed": true
   },
   "outputs": [],
   "source": [
    "#如何計算最頻繁詞的長度，並找出文本中最常出現的文字長度？"
   ]
  },
  {
   "cell_type": "code",
   "execution_count": 118,
   "metadata": {},
   "outputs": [],
   "source": [
    "fdist = FreqDist([len(w) for w in text1])"
   ]
  },
  {
   "cell_type": "code",
   "execution_count": 119,
   "metadata": {},
   "outputs": [
    {
     "data": {
      "text/plain": [
       "dict_items([(1, 47933), (4, 42345), (2, 38513), (6, 17111), (8, 9966), (9, 6428), (11, 1873), (5, 26597), (7, 14399), (3, 50223), (10, 3528), (12, 1053), (13, 567), (14, 177), (16, 22), (15, 70), (17, 12), (18, 1), (20, 1)])"
      ]
     },
     "execution_count": 119,
     "metadata": {},
     "output_type": "execute_result"
    }
   ],
   "source": [
    "fdist.items()"
   ]
  },
  {
   "cell_type": "code",
   "execution_count": 120,
   "metadata": {},
   "outputs": [
    {
     "data": {
      "text/plain": [
       "3"
      ]
     },
     "execution_count": 120,
     "metadata": {},
     "output_type": "execute_result"
    }
   ],
   "source": [
    "fdist.max()"
   ]
  },
  {
   "cell_type": "code",
   "execution_count": 121,
   "metadata": {},
   "outputs": [
    {
     "data": {
      "text/plain": [
       "50223"
      ]
     },
     "execution_count": 121,
     "metadata": {},
     "output_type": "execute_result"
    }
   ],
   "source": [
    "fdist[3]"
   ]
  },
  {
   "cell_type": "code",
   "execution_count": 122,
   "metadata": {},
   "outputs": [
    {
     "data": {
      "text/plain": [
       "0.19255882431878046"
      ]
     },
     "execution_count": 122,
     "metadata": {},
     "output_type": "execute_result"
    }
   ],
   "source": [
    "fdist.freq(3)"
   ]
  },
  {
   "cell_type": "code",
   "execution_count": 125,
   "metadata": {},
   "outputs": [
    {
     "data": {
      "text/plain": [
       "False"
      ]
     },
     "execution_count": 125,
     "metadata": {},
     "output_type": "execute_result"
    }
   ],
   "source": [
    "s = 'telephone'\n",
    "s.endswith('t')"
   ]
  },
  {
   "cell_type": "code",
   "execution_count": 126,
   "metadata": {},
   "outputs": [
    {
     "data": {
      "text/plain": [
       "True"
      ]
     },
     "execution_count": 126,
     "metadata": {},
     "output_type": "execute_result"
    }
   ],
   "source": [
    "'t' in s"
   ]
  },
  {
   "cell_type": "code",
   "execution_count": 127,
   "metadata": {},
   "outputs": [
    {
     "data": {
      "text/plain": [
       "True"
      ]
     },
     "execution_count": 127,
     "metadata": {},
     "output_type": "execute_result"
    }
   ],
   "source": [
    "s.islower()"
   ]
  },
  {
   "cell_type": "code",
   "execution_count": 128,
   "metadata": {},
   "outputs": [
    {
     "data": {
      "text/plain": [
       "False"
      ]
     },
     "execution_count": 128,
     "metadata": {},
     "output_type": "execute_result"
    }
   ],
   "source": [
    "s.isupper()"
   ]
  },
  {
   "cell_type": "code",
   "execution_count": 129,
   "metadata": {},
   "outputs": [
    {
     "data": {
      "text/plain": [
       "True"
      ]
     },
     "execution_count": 129,
     "metadata": {},
     "output_type": "execute_result"
    }
   ],
   "source": [
    "s.isalpha()"
   ]
  },
  {
   "cell_type": "code",
   "execution_count": 131,
   "metadata": {},
   "outputs": [
    {
     "data": {
      "text/plain": [
       "True"
      ]
     },
     "execution_count": 131,
     "metadata": {},
     "output_type": "execute_result"
    }
   ],
   "source": [
    "s = 'telephone11111'\n",
    "s.isalnum()"
   ]
  },
  {
   "cell_type": "code",
   "execution_count": 133,
   "metadata": {},
   "outputs": [
    {
     "data": {
      "text/plain": [
       "False"
      ]
     },
     "execution_count": 133,
     "metadata": {},
     "output_type": "execute_result"
    }
   ],
   "source": [
    "s = '11111joojj'\n",
    "s.isdigit()"
   ]
  },
  {
   "cell_type": "code",
   "execution_count": 134,
   "metadata": {},
   "outputs": [
    {
     "data": {
      "text/plain": [
       "True"
      ]
     },
     "execution_count": 134,
     "metadata": {},
     "output_type": "execute_result"
    }
   ],
   "source": [
    "s = \"Jerry\"\n",
    "s.istitle()"
   ]
  },
  {
   "cell_type": "code",
   "execution_count": null,
   "metadata": {
    "collapsed": true
   },
   "outputs": [],
   "source": [
    "#控制問題"
   ]
  },
  {
   "cell_type": "code",
   "execution_count": 135,
   "metadata": {
    "collapsed": true
   },
   "outputs": [
    {
     "data": {
      "text/plain": [
       "['comfortableness',\n",
       " 'honourableness',\n",
       " 'immutableness',\n",
       " 'indispensableness',\n",
       " 'indomitableness',\n",
       " 'intolerableness',\n",
       " 'palpableness',\n",
       " 'reasonableness',\n",
       " 'uncomfortableness']"
      ]
     },
     "execution_count": 135,
     "metadata": {},
     "output_type": "execute_result"
    }
   ],
   "source": [
    "#text1 以-ableness 结尾的词\n",
    "sorted([w for w in set(text1) if w.endswith('ableness')])"
   ]
  },
  {
   "cell_type": "code",
   "execution_count": 136,
   "metadata": {},
   "outputs": [
    {
     "data": {
      "text/plain": [
       "['Sovereignty', 'sovereignties', 'sovereignty']"
      ]
     },
     "execution_count": 136,
     "metadata": {},
     "output_type": "execute_result"
    }
   ],
   "source": [
    "#text4 包含 gnt 詞\n",
    "sorted([term for term in set(text4) if 'gnt' in term])"
   ]
  },
  {
   "cell_type": "code",
   "execution_count": 137,
   "metadata": {
    "collapsed": true
   },
   "outputs": [
    {
     "data": {
      "text/plain": [
       "['A',\n",
       " 'Aaaaaaaaah',\n",
       " 'Aaaaaaaah',\n",
       " 'Aaaaaah',\n",
       " 'Aaaah',\n",
       " 'Aaaaugh',\n",
       " 'Aaagh',\n",
       " 'Aaah',\n",
       " 'Aaauggh',\n",
       " 'Aaaugh',\n",
       " 'Aaauugh',\n",
       " 'Aagh',\n",
       " 'Aah',\n",
       " 'Aauuggghhh',\n",
       " 'Aauuugh',\n",
       " 'Aauuuuugh',\n",
       " 'Aauuuves',\n",
       " 'Action',\n",
       " 'Actually',\n",
       " 'African',\n",
       " 'Ages',\n",
       " 'Aggh',\n",
       " 'Agh',\n",
       " 'Ah',\n",
       " 'Ahh',\n",
       " 'Alice',\n",
       " 'All',\n",
       " 'Allo',\n",
       " 'Almighty',\n",
       " 'Alright',\n",
       " 'Am',\n",
       " 'Amen',\n",
       " 'An',\n",
       " 'Anarcho',\n",
       " 'And',\n",
       " 'Angnor',\n",
       " 'Anthrax',\n",
       " 'Antioch',\n",
       " 'Anybody',\n",
       " 'Anyway',\n",
       " 'Apples',\n",
       " 'Aramaic',\n",
       " 'Are',\n",
       " 'Arimathea',\n",
       " 'Armaments',\n",
       " 'Arthur',\n",
       " 'As',\n",
       " 'Ask',\n",
       " 'Assyria',\n",
       " 'At',\n",
       " 'Attila',\n",
       " 'Augh',\n",
       " 'Autumn',\n",
       " 'Auuuuuuuugh',\n",
       " 'Away',\n",
       " 'Ay',\n",
       " 'Ayy',\n",
       " 'B',\n",
       " 'Back',\n",
       " 'Bad',\n",
       " 'Badon',\n",
       " 'Battle',\n",
       " 'Be',\n",
       " 'Beast',\n",
       " 'Bedevere',\n",
       " 'Bedwere',\n",
       " 'Behold',\n",
       " 'Between',\n",
       " 'Beyond',\n",
       " 'Black',\n",
       " 'Bloody',\n",
       " 'Blue',\n",
       " 'Bon',\n",
       " 'Bones',\n",
       " 'Book',\n",
       " 'Bors',\n",
       " 'Brave',\n",
       " 'Bravely',\n",
       " 'Bravest',\n",
       " 'Bread',\n",
       " 'Bridge',\n",
       " 'Bring',\n",
       " 'Bristol',\n",
       " 'Britain',\n",
       " 'Britons',\n",
       " 'Brother',\n",
       " 'Build',\n",
       " 'Burn',\n",
       " 'But',\n",
       " 'By',\n",
       " 'C',\n",
       " 'Caerbannog',\n",
       " 'Camaaaaaargue',\n",
       " 'Camelot',\n",
       " 'Castle',\n",
       " 'Chapter',\n",
       " 'Charge',\n",
       " 'Chaste',\n",
       " 'Cherries',\n",
       " 'Chicken',\n",
       " 'Chickennn',\n",
       " 'Chop',\n",
       " 'Christ',\n",
       " 'Churches',\n",
       " 'Cider',\n",
       " 'Clark',\n",
       " 'Clear',\n",
       " 'Come',\n",
       " 'Concorde',\n",
       " 'Consult',\n",
       " 'Cornwall',\n",
       " 'Could',\n",
       " 'Course',\n",
       " 'Court',\n",
       " 'Crapper',\n",
       " 'Cut',\n",
       " 'Dappy',\n",
       " 'Death',\n",
       " 'Defeat',\n",
       " 'Dennis',\n",
       " 'Did',\n",
       " 'Didn',\n",
       " 'Dingo',\n",
       " 'Dis',\n",
       " 'Divine',\n",
       " 'Do',\n",
       " 'Doctor',\n",
       " 'Does',\n",
       " 'Don',\n",
       " 'Dragon',\n",
       " 'Dramatically',\n",
       " 'Ecky',\n",
       " 'Ector',\n",
       " 'Eee',\n",
       " 'Eh',\n",
       " 'Enchanter',\n",
       " 'England',\n",
       " 'English',\n",
       " 'Erbert',\n",
       " 'Ere',\n",
       " 'Erm',\n",
       " 'Eternal',\n",
       " 'European',\n",
       " 'Even',\n",
       " 'Every',\n",
       " 'Everything',\n",
       " 'Ewing',\n",
       " 'Exactly',\n",
       " 'Excalibur',\n",
       " 'Excuse',\n",
       " 'Explain',\n",
       " 'Far',\n",
       " 'Farewell',\n",
       " 'Father',\n",
       " 'Fetchez',\n",
       " 'Fiends',\n",
       " 'Fine',\n",
       " 'First',\n",
       " 'Firstly',\n",
       " 'Five',\n",
       " 'Follow',\n",
       " 'For',\n",
       " 'Forgive',\n",
       " 'Forward',\n",
       " 'Found',\n",
       " 'Four',\n",
       " 'France',\n",
       " 'Frank',\n",
       " 'French',\n",
       " 'Gable',\n",
       " 'Galahad',\n",
       " 'Gallahad',\n",
       " 'Gawain',\n",
       " 'Get',\n",
       " 'Go',\n",
       " 'God',\n",
       " 'Good',\n",
       " 'Gorge',\n",
       " 'Grail',\n",
       " 'Great',\n",
       " 'Greetings',\n",
       " 'Grenade',\n",
       " 'Guards',\n",
       " 'Guy',\n",
       " 'Ha',\n",
       " 'Hah',\n",
       " 'Hallo',\n",
       " 'Halt',\n",
       " 'Hand',\n",
       " 'Hang',\n",
       " 'Have',\n",
       " 'Haw',\n",
       " 'He',\n",
       " 'Hee',\n",
       " 'Heee',\n",
       " 'Heh',\n",
       " 'Hello',\n",
       " 'Help',\n",
       " 'Herbert',\n",
       " 'Here',\n",
       " 'Hey',\n",
       " 'Hic',\n",
       " 'Hill',\n",
       " 'Himself',\n",
       " 'His',\n",
       " 'Hiyaah',\n",
       " 'Hiyah',\n",
       " 'Hiyya',\n",
       " 'Hm',\n",
       " 'Hmm',\n",
       " 'Ho',\n",
       " 'Hoa',\n",
       " 'Hold',\n",
       " 'Holy',\n",
       " 'Honestly',\n",
       " 'Hoo',\n",
       " 'Hooray',\n",
       " 'How',\n",
       " 'Huh',\n",
       " 'Hurry',\n",
       " 'Huy',\n",
       " 'Huyah',\n",
       " 'Hya',\n",
       " 'Hyy',\n",
       " 'I',\n",
       " 'Idiom',\n",
       " 'Iesu',\n",
       " 'If',\n",
       " 'Iiiiives',\n",
       " 'Iiiives',\n",
       " 'In',\n",
       " 'Is',\n",
       " 'Isn',\n",
       " 'It',\n",
       " 'Ives',\n",
       " 'Jesus',\n",
       " 'Joseph',\n",
       " 'Just',\n",
       " 'Keep',\n",
       " 'King',\n",
       " 'Knight',\n",
       " 'Knights',\n",
       " 'Lady',\n",
       " 'Lake',\n",
       " 'Lancelot',\n",
       " 'Launcelot',\n",
       " 'Lead',\n",
       " 'Leaving',\n",
       " 'Let',\n",
       " 'Lie',\n",
       " 'Like',\n",
       " 'Listen',\n",
       " 'Loimbard',\n",
       " 'Look',\n",
       " 'Looks',\n",
       " 'Lord',\n",
       " 'Lucky',\n",
       " 'Make',\n",
       " 'Man',\n",
       " 'May',\n",
       " 'Maynard',\n",
       " 'Meanwhile',\n",
       " 'Mercea',\n",
       " 'Message',\n",
       " 'Midget',\n",
       " 'Mind',\n",
       " 'Mine',\n",
       " 'Mmm',\n",
       " 'Monsieur',\n",
       " 'More',\n",
       " 'Morning',\n",
       " 'Most',\n",
       " 'Mother',\n",
       " 'Mud',\n",
       " 'Must',\n",
       " 'My',\n",
       " 'N',\n",
       " 'Nador',\n",
       " 'Nay',\n",
       " 'Neee',\n",
       " 'Never',\n",
       " 'Ni',\n",
       " 'Nine',\n",
       " 'Ninepence',\n",
       " 'No',\n",
       " 'None',\n",
       " 'Not',\n",
       " 'Nothing',\n",
       " 'Now',\n",
       " 'Nu',\n",
       " 'O',\n",
       " 'Of',\n",
       " 'Off',\n",
       " 'Oh',\n",
       " 'Ohh',\n",
       " 'Old',\n",
       " 'Olfin',\n",
       " 'On',\n",
       " 'Once',\n",
       " 'One',\n",
       " 'Ooh',\n",
       " 'Oooh',\n",
       " 'Oooo',\n",
       " 'Oooohoohohooo',\n",
       " 'Oooooooh',\n",
       " 'Open',\n",
       " 'Or',\n",
       " 'Order',\n",
       " 'Other',\n",
       " 'Oui',\n",
       " 'Our',\n",
       " 'Over',\n",
       " 'Ow',\n",
       " 'Packing',\n",
       " 'Patsy',\n",
       " 'Pendragon',\n",
       " 'Peng',\n",
       " 'Perhaps',\n",
       " 'Peril',\n",
       " 'Picture',\n",
       " 'Pie',\n",
       " 'Piglet',\n",
       " 'Pin',\n",
       " 'Please',\n",
       " 'Practice',\n",
       " 'Prepare',\n",
       " 'Prince',\n",
       " 'Princess',\n",
       " 'Providence',\n",
       " 'Psalms',\n",
       " 'Pull',\n",
       " 'Pure',\n",
       " 'Put',\n",
       " 'Quick',\n",
       " 'Quickly',\n",
       " 'Quiet',\n",
       " 'Quite',\n",
       " 'Quoi',\n",
       " 'Rather',\n",
       " 'Really',\n",
       " 'Recently',\n",
       " 'Remove',\n",
       " 'Rheged',\n",
       " 'Ridden',\n",
       " 'Right',\n",
       " 'Riiight',\n",
       " 'Robin',\n",
       " 'Robinson',\n",
       " 'Roger',\n",
       " 'Round',\n",
       " 'Run',\n",
       " 'Running',\n",
       " 'S',\n",
       " 'Said',\n",
       " 'Saint',\n",
       " 'Saxons',\n",
       " 'Say',\n",
       " 'Schools',\n",
       " 'See',\n",
       " 'Seek',\n",
       " 'Shall',\n",
       " 'She',\n",
       " 'Shh',\n",
       " 'Shrubber',\n",
       " 'Shrubberies',\n",
       " 'Shut',\n",
       " 'Silence',\n",
       " 'Silly',\n",
       " 'Since',\n",
       " 'Sir',\n",
       " 'Skip',\n",
       " 'So',\n",
       " 'Sorry',\n",
       " 'Speak',\n",
       " 'Splendid',\n",
       " 'Spring',\n",
       " 'Stand',\n",
       " 'Stay',\n",
       " 'Steady',\n",
       " 'Stop',\n",
       " 'Summer',\n",
       " 'Supposing',\n",
       " 'Supreme',\n",
       " 'Surely',\n",
       " 'Swamp',\n",
       " 'Table',\n",
       " 'Tale',\n",
       " 'Tall',\n",
       " 'Tell',\n",
       " 'Thank',\n",
       " 'That',\n",
       " 'The',\n",
       " 'Thee',\n",
       " 'Then',\n",
       " 'There',\n",
       " 'Therefore',\n",
       " 'They',\n",
       " 'This',\n",
       " 'Those',\n",
       " 'Thou',\n",
       " 'Thpppppt',\n",
       " 'Thppppt',\n",
       " 'Thpppt',\n",
       " 'Thppt',\n",
       " 'Three',\n",
       " 'Throw',\n",
       " 'Thsss',\n",
       " 'Thursday',\n",
       " 'Thy',\n",
       " 'Til',\n",
       " 'Tim',\n",
       " 'Tis',\n",
       " 'To',\n",
       " 'Today',\n",
       " 'Together',\n",
       " 'Too',\n",
       " 'Torment',\n",
       " 'Tower',\n",
       " 'True',\n",
       " 'Try',\n",
       " 'Twenty',\n",
       " 'Two',\n",
       " 'U',\n",
       " 'Uh',\n",
       " 'Uhh',\n",
       " 'Ulk',\n",
       " 'Um',\n",
       " 'Umhm',\n",
       " 'Umm',\n",
       " 'Un',\n",
       " 'Unfortunately',\n",
       " 'Until',\n",
       " 'Use',\n",
       " 'Uther',\n",
       " 'Uugh',\n",
       " 'Uuh',\n",
       " 'Very',\n",
       " 'Victory',\n",
       " 'W',\n",
       " 'Waa',\n",
       " 'Wait',\n",
       " 'Walk',\n",
       " 'Wayy',\n",
       " 'We',\n",
       " 'Welcome',\n",
       " 'Well',\n",
       " 'What',\n",
       " 'When',\n",
       " 'Where',\n",
       " 'Which',\n",
       " 'Who',\n",
       " 'Whoa',\n",
       " 'Why',\n",
       " 'Will',\n",
       " 'Winston',\n",
       " 'Winter',\n",
       " 'With',\n",
       " 'Woa',\n",
       " 'Wood',\n",
       " 'Would',\n",
       " 'Y',\n",
       " 'Yapping',\n",
       " 'Yay',\n",
       " 'Yeaaah',\n",
       " 'Yeaah',\n",
       " 'Yeah',\n",
       " 'Yes',\n",
       " 'You',\n",
       " 'Your',\n",
       " 'Yup',\n",
       " 'Zoot']"
      ]
     },
     "execution_count": 137,
     "metadata": {},
     "output_type": "execute_result"
    }
   ],
   "source": [
    "#在text6 第一個字母大寫的詞\n",
    "sorted([item for item in set(text6) if item.istitle()])"
   ]
  },
  {
   "cell_type": "code",
   "execution_count": null,
   "metadata": {
    "collapsed": true
   },
   "outputs": [],
   "source": []
  },
  {
   "cell_type": "code",
   "execution_count": 139,
   "metadata": {
    "collapsed": true
   },
   "outputs": [
    {
     "data": {
      "text/plain": [
       "['Stock-index',\n",
       " 'index-arbitrage',\n",
       " 'index-fund',\n",
       " 'index-options',\n",
       " 'index-related',\n",
       " 'stock-index']"
      ]
     },
     "execution_count": 139,
     "metadata": {},
     "output_type": "execute_result"
    }
   ],
   "source": [
    "#在Text7找出出現- 以及有index的詞\n",
    "sorted([w for w in set(text7) if '-' in w and 'index' in w])"
   ]
  },
  {
   "cell_type": "code",
   "execution_count": 140,
   "metadata": {
    "collapsed": true
   },
   "outputs": [
    {
     "data": {
      "text/plain": [
       "['Abelmizraim',\n",
       " 'Allonbachuth',\n",
       " 'Beerlahairoi',\n",
       " 'Canaanitish',\n",
       " 'Chedorlaomer',\n",
       " 'Girgashites',\n",
       " 'Hazarmaveth',\n",
       " 'Hazezontamar',\n",
       " 'Ishmeelites',\n",
       " 'Jegarsahadutha',\n",
       " 'Jehovahjireh',\n",
       " 'Kirjatharba',\n",
       " 'Melchizedek',\n",
       " 'Mesopotamia',\n",
       " 'Peradventure',\n",
       " 'Philistines',\n",
       " 'Zaphnathpaaneah']"
      ]
     },
     "execution_count": 140,
     "metadata": {},
     "output_type": "execute_result"
    }
   ],
   "source": [
    "#找出Text3中字母大寫以及長度大於10的詞\n",
    "sorted([w for w in set(text3) if w.istitle() and len(w) > 10])"
   ]
  },
  {
   "cell_type": "code",
   "execution_count": 141,
   "metadata": {
    "collapsed": true
   },
   "outputs": [
    {
     "data": {
      "text/plain": [
       "['ancient',\n",
       " 'ceiling',\n",
       " 'conceit',\n",
       " 'conceited',\n",
       " 'conceive',\n",
       " 'conscience',\n",
       " 'conscientious',\n",
       " 'conscientiously',\n",
       " 'deceitful',\n",
       " 'deceive',\n",
       " 'deceived',\n",
       " 'deceiving',\n",
       " 'deficiencies',\n",
       " 'deficiency',\n",
       " 'deficient',\n",
       " 'delicacies',\n",
       " 'excellencies',\n",
       " 'fancied',\n",
       " 'insufficiency',\n",
       " 'insufficient',\n",
       " 'legacies',\n",
       " 'perceive',\n",
       " 'perceived',\n",
       " 'perceiving',\n",
       " 'prescience',\n",
       " 'prophecies',\n",
       " 'receipt',\n",
       " 'receive',\n",
       " 'received',\n",
       " 'receiving',\n",
       " 'society',\n",
       " 'species',\n",
       " 'sufficient',\n",
       " 'sufficiently',\n",
       " 'undeceive',\n",
       " 'undeceiving']"
      ]
     },
     "execution_count": 141,
     "metadata": {},
     "output_type": "execute_result"
    }
   ],
   "source": [
    "#找出Text2具備cie 或 cei的單字\n",
    "sorted([w for w in set(text2) if 'cie' in w or 'cei' in w]) "
   ]
  },
  {
   "cell_type": "code",
   "execution_count": 142,
   "metadata": {
    "collapsed": true
   },
   "outputs": [],
   "source": [
    "import jieba"
   ]
  },
  {
   "cell_type": "code",
   "execution_count": 143,
   "metadata": {},
   "outputs": [
    {
     "name": "stderr",
     "output_type": "stream",
     "text": [
      "Building prefix dict from the default dictionary ...\n",
      "Loading model from cache /var/folders/ym/g8qqytd92jjbp0ltc88khjfh0000gn/T/jieba.cache\n",
      "Loading model cost 0.867 seconds.\n",
      "Prefix dict has been built succesfully.\n"
     ]
    },
    {
     "name": "stdout",
     "output_type": "stream",
     "text": [
      "我/ 來/ 到/ T/ 客/ 邦/ 上/ 課\n"
     ]
    }
   ],
   "source": [
    "seg_list = jieba.cut('我來到T客邦上課', HMM=False)\n",
    "print('/ '.join(seg_list))"
   ]
  },
  {
   "cell_type": "code",
   "execution_count": 144,
   "metadata": {
    "collapsed": true
   },
   "outputs": [],
   "source": [
    "jieba.add_word('T客邦')"
   ]
  },
  {
   "cell_type": "code",
   "execution_count": 145,
   "metadata": {},
   "outputs": [
    {
     "name": "stdout",
     "output_type": "stream",
     "text": [
      "我/ 來/ 到/ T客邦/ 上/ 課\n"
     ]
    }
   ],
   "source": [
    "seg_list = jieba.cut('我來到T客邦上課', HMM=False)\n",
    "print('/ '.join(seg_list))"
   ]
  },
  {
   "cell_type": "code",
   "execution_count": 147,
   "metadata": {
    "collapsed": true
   },
   "outputs": [],
   "source": [
    "jieba.del_word('T客邦')"
   ]
  },
  {
   "cell_type": "code",
   "execution_count": 148,
   "metadata": {},
   "outputs": [
    {
     "name": "stdout",
     "output_type": "stream",
     "text": [
      "我/ 來/ 到/ T/ 客/ 邦/ 上/ 課\n"
     ]
    }
   ],
   "source": [
    "seg_list = jieba.cut('我來到T客邦上課', HMM=False)\n",
    "print('/ '.join(seg_list))"
   ]
  },
  {
   "cell_type": "code",
   "execution_count": 149,
   "metadata": {},
   "outputs": [
    {
     "name": "stdout",
     "output_type": "stream",
     "text": [
      "今天 t\n",
      "天氣 n\n",
      "真好 d\n"
     ]
    }
   ],
   "source": [
    "import jieba.posseg as pseg\n",
    "words = pseg.cut('今天天氣真好')\n",
    "for word, flag in words:\n",
    "    print('%s %s' % (word, flag))\n",
    "    \n",
    "#https://gist.github.com/luw2007/6016931"
   ]
  },
  {
   "cell_type": "code",
   "execution_count": null,
   "metadata": {
    "collapsed": true
   },
   "outputs": [],
   "source": []
  },
  {
   "cell_type": "code",
   "execution_count": null,
   "metadata": {
    "collapsed": true
   },
   "outputs": [],
   "source": []
  },
  {
   "cell_type": "code",
   "execution_count": null,
   "metadata": {
    "collapsed": true
   },
   "outputs": [],
   "source": []
  },
  {
   "cell_type": "code",
   "execution_count": null,
   "metadata": {
    "collapsed": true
   },
   "outputs": [],
   "source": []
  },
  {
   "cell_type": "code",
   "execution_count": null,
   "metadata": {
    "collapsed": true
   },
   "outputs": [],
   "source": []
  },
  {
   "cell_type": "code",
   "execution_count": null,
   "metadata": {
    "collapsed": true
   },
   "outputs": [],
   "source": []
  },
  {
   "cell_type": "code",
   "execution_count": null,
   "metadata": {
    "collapsed": true
   },
   "outputs": [],
   "source": []
  },
  {
   "cell_type": "code",
   "execution_count": null,
   "metadata": {
    "collapsed": true
   },
   "outputs": [],
   "source": []
  },
  {
   "cell_type": "code",
   "execution_count": null,
   "metadata": {
    "collapsed": true
   },
   "outputs": [],
   "source": []
  }
 ],
 "metadata": {
  "kernelspec": {
   "display_name": "Python 3",
   "language": "python",
   "name": "python3"
  },
  "language_info": {
   "codemirror_mode": {
    "name": "ipython",
    "version": 3
   },
   "file_extension": ".py",
   "mimetype": "text/x-python",
   "name": "python",
   "nbconvert_exporter": "python",
   "pygments_lexer": "ipython3",
   "version": "3.6.4"
  }
 },
 "nbformat": 4,
 "nbformat_minor": 2
}
